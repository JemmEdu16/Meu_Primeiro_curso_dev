{
  "cells": [
    {
      "cell_type": "markdown",
      "metadata": {
        "id": "view-in-github",
        "colab_type": "text"
      },
      "source": [
        "<a href=\"https://colab.research.google.com/github/JemmEdu16/Meu_Primeiro_curso_dev/blob/main/C%C3%B3pia_de_C%C3%B3pia_de_atividade_new.ipynb\" target=\"_parent\"><img src=\"https://colab.research.google.com/assets/colab-badge.svg\" alt=\"Open In Colab\"/></a>"
      ]
    },
    {
      "cell_type": "code",
      "execution_count": null,
      "metadata": {
        "id": "V7go3hZaMdpF"
      },
      "outputs": [],
      "source": []
    },
    {
      "cell_type": "code",
      "execution_count": 9,
      "metadata": {
        "colab": {
          "base_uri": "https://localhost:8080/"
        },
        "id": "sJcVKgl_ykn-",
        "outputId": "50467ac0-4d22-4d65-b797-248eb357ca39"
      },
      "outputs": [
        {
          "output_type": "stream",
          "name": "stdout",
          "text": [
            " insira o nome de usuario: MidlifeJam\n",
            "digite a sua senha: 20335\n",
            "Acesso permitido\n",
            "selecione o número da operação requerida: 4\n",
            "calculadora selecionada.\n",
            "selecione o número de acordo com a conta: 4\n",
            "primeiro número: 4\n",
            "segundo número: 0\n",
            "Operação inválida.\n"
          ]
        }
      ],
      "source": [
        "operacao = 1/2/3/4\n",
        "CD = 1\n",
        "CP = 2\n",
        "CA = 3\n",
        "Calculadora = 4\n",
        "\n",
        "usuario_padrao = \"MidlifeJam\"\n",
        "senha_padrao = \"20335\"\n",
        "usuario = str(input(\" insira o nome de usuario: \"))\n",
        "senha = str(input(\"digite a sua senha: \"))\n",
        "if usuario == usuario_padrao and senha == senha_padrao:\n",
        "  print(\"Acesso permitido\")\n",
        "  operacao = int(input(\"selecione o número da operação requerida: \",))\n",
        "  if  operacao == 1:\n",
        "    print(\"cadastro direto selecionado.\")\n",
        "    usario_cd = str(input(\"usuario: \"))\n",
        "    senha_cd = str(input(\"senha: \"))\n",
        "    id_cd = str(input(\"ID: \"))\n",
        "    print(\"cadastro direto efetuado.\")\n",
        "  elif  operacao == 2:\n",
        "    print(\"cadastro de professor selecionado.\")\n",
        "    professor = str(input(\"professor: \"))\n",
        "    senha_professor = str(input(\"senha: \"))\n",
        "    id_cd = str(input(\"ID: \"))\n",
        "    materia = str(input(\"matéria lecionada: \"))\n",
        "  elif  operacao == 3:\n",
        "    print(\"cadastro de aluno selecionado.\")\n",
        "    aluno = str(input(\"aluno: \"))\n",
        "    senha_aluno = str(input(\"senha: \"))\n",
        "    id_aluno = str(input(\"ID: \"))\n",
        "    serie = str(input(\"Série: \"))\n",
        "  elif  operacao == 4:\n",
        "    print(\"calculadora selecionada.\")\n",
        "    matematica = 1/2/3/4/5/6\n",
        "    matematica = int(input(\"selecione o número de acordo com a conta: \"))\n",
        "    num1 = int(input(\"primeiro número: \"))\n",
        "    num2 = int(input(\"segundo número: \"))\n",
        "\n",
        "    if matematica == 1:\n",
        "      print(num1 + num2)\n",
        "    elif matematica == 2:\n",
        "      print(num1 - num2)\n",
        "    elif matematica == 3:\n",
        "      print(num1 * num2)\n",
        "    elif matematica == 4:\n",
        "      if num2 == 0 or num1 == 0:\n",
        "        print(\"Operação inválida.\")\n",
        "      else:\n",
        "       print(num1 / num2)\n",
        "    elif matematica == 5:\n",
        "      print(num1 ** num2)\n",
        "    elif matematica == 6 and num1 != 0:\n",
        "      print(num2 **(1/num1))\n",
        "    else:\n",
        "      print(\"Operação inválida.\")\n",
        "  else:\n",
        "    print(\"Operação inexistente.\")\n",
        "else:\n",
        " print(\"Acesso negado.\")"
      ]
    }
  ],
  "metadata": {
    "colab": {
      "provenance": [],
      "authorship_tag": "ABX9TyP0+Q3b/xcawAXSF+VmsRmX",
      "include_colab_link": true
    },
    "kernelspec": {
      "display_name": "Python 3",
      "name": "python3"
    },
    "language_info": {
      "name": "python"
    }
  },
  "nbformat": 4,
  "nbformat_minor": 0
}